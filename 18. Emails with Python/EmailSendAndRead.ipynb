{
 "cells": [
  {
   "cell_type": "code",
   "execution_count": 24,
   "metadata": {},
   "outputs": [],
   "source": [
    "import smtplib"
   ]
  },
  {
   "cell_type": "code",
   "execution_count": 25,
   "metadata": {},
   "outputs": [],
   "source": [
    "#establish the connection\n",
    "smtp_obj = smtplib.SMTP('smtp.gmail.com',587)"
   ]
  },
  {
   "cell_type": "code",
   "execution_count": 26,
   "metadata": {},
   "outputs": [],
   "source": [
    "#587 is port number\n",
    "#if it does not work then use 465\n",
    "#if that doesn't work either then don't pass the port"
   ]
  },
  {
   "cell_type": "code",
   "execution_count": 27,
   "metadata": {},
   "outputs": [],
   "source": [
    "#using 587 means using TLS encryption"
   ]
  },
  {
   "cell_type": "code",
   "execution_count": 28,
   "metadata": {},
   "outputs": [
    {
     "data": {
      "text/plain": [
       "(250,\n",
       " b'smtp.gmail.com at your service, [2806:2f0:6040:44a7:48c1:ec2a:9db5:50ed]\\nSIZE 35882577\\n8BITMIME\\nSTARTTLS\\nENHANCEDSTATUSCODES\\nPIPELINING\\nCHUNKING\\nSMTPUTF8')"
      ]
     },
     "execution_count": 28,
     "metadata": {},
     "output_type": "execute_result"
    }
   ],
   "source": [
    "#to greet the server\n",
    "smtp_obj.ehlo()"
   ]
  },
  {
   "cell_type": "code",
   "execution_count": 29,
   "metadata": {},
   "outputs": [
    {
     "data": {
      "text/plain": [
       "(220, b'2.0.0 Ready to start TLS')"
      ]
     },
     "execution_count": 29,
     "metadata": {},
     "output_type": "execute_result"
    }
   ],
   "source": [
    "smtp_obj.starttls()"
   ]
  },
  {
   "cell_type": "code",
   "execution_count": null,
   "metadata": {},
   "outputs": [],
   "source": []
  },
  {
   "cell_type": "code",
   "execution_count": 30,
   "metadata": {},
   "outputs": [],
   "source": [
    "import getpass"
   ]
  },
  {
   "cell_type": "code",
   "execution_count": 31,
   "metadata": {},
   "outputs": [
    {
     "name": "stdout",
     "output_type": "stream",
     "text": [
      "Enter your password:········\n"
     ]
    }
   ],
   "source": [
    "password = getpass.getpass('Enter your password:')"
   ]
  },
  {
   "cell_type": "code",
   "execution_count": 18,
   "metadata": {},
   "outputs": [
    {
     "data": {
      "text/plain": [
       "'rakesh'"
      ]
     },
     "execution_count": 18,
     "metadata": {},
     "output_type": "execute_result"
    }
   ],
   "source": [
    "password"
   ]
  },
  {
   "cell_type": "code",
   "execution_count": 32,
   "metadata": {},
   "outputs": [
    {
     "name": "stdout",
     "output_type": "stream",
     "text": [
      "Email: ········\n",
      "Password: ········\n"
     ]
    },
    {
     "data": {
      "text/plain": [
       "(235, b'2.7.0 Accepted')"
      ]
     },
     "execution_count": 32,
     "metadata": {},
     "output_type": "execute_result"
    }
   ],
   "source": [
    "email = getpass.getpass('Email: ')\n",
    "password = getpass.getpass('Password: ')\n",
    "smtp_obj.login(email, password)"
   ]
  },
  {
   "cell_type": "code",
   "execution_count": 35,
   "metadata": {},
   "outputs": [
    {
     "name": "stdout",
     "output_type": "stream",
     "text": [
      "Enter the subject: New test python\n",
      "Enter the message: Hello! This is a test.\n"
     ]
    },
    {
     "data": {
      "text/plain": [
       "{}"
      ]
     },
     "execution_count": 35,
     "metadata": {},
     "output_type": "execute_result"
    }
   ],
   "source": [
    "from_address = email\n",
    "to_address = 'rakesh.xyzz@gmail.com'\n",
    "subject = input('Enter the subject: ')\n",
    "message = input('Enter the message: ')\n",
    "msg = 'Subject: ' + subject + '\\n' + message\n",
    "\n",
    "smtp_obj.sendmail(from_address, to_address, msg)"
   ]
  },
  {
   "cell_type": "code",
   "execution_count": 36,
   "metadata": {},
   "outputs": [
    {
     "data": {
      "text/plain": [
       "(221, b'2.0.0 closing connection y67sm6083021ota.34 - gsmtp')"
      ]
     },
     "execution_count": 36,
     "metadata": {},
     "output_type": "execute_result"
    }
   ],
   "source": [
    "smtp_obj.quit()"
   ]
  },
  {
   "cell_type": "code",
   "execution_count": null,
   "metadata": {},
   "outputs": [],
   "source": []
  },
  {
   "cell_type": "code",
   "execution_count": null,
   "metadata": {},
   "outputs": [],
   "source": []
  },
  {
   "cell_type": "code",
   "execution_count": 37,
   "metadata": {},
   "outputs": [
    {
     "name": "stdout",
     "output_type": "stream",
     "text": [
      "\n",
      "\n",
      "\n",
      "\n",
      "\n",
      "\n"
     ]
    }
   ],
   "source": [
    "print('\\n'*5)"
   ]
  },
  {
   "cell_type": "markdown",
   "metadata": {},
   "source": [
    "--------\n",
    "Receive emails with Python\n",
    "--------"
   ]
  },
  {
   "cell_type": "code",
   "execution_count": 38,
   "metadata": {},
   "outputs": [],
   "source": [
    "import imaplib"
   ]
  },
  {
   "cell_type": "code",
   "execution_count": 39,
   "metadata": {},
   "outputs": [],
   "source": [
    "M = imaplib.IMAP4_SSL('imap.gmail.com')"
   ]
  },
  {
   "cell_type": "code",
   "execution_count": 40,
   "metadata": {},
   "outputs": [],
   "source": [
    "import getpass"
   ]
  },
  {
   "cell_type": "code",
   "execution_count": 41,
   "metadata": {},
   "outputs": [
    {
     "name": "stdout",
     "output_type": "stream",
     "text": [
      "Email: ········\n",
      "Password: ········\n"
     ]
    }
   ],
   "source": [
    "email = getpass.getpass('Email: ')\n",
    "password = getpass.getpass('Password: ')"
   ]
  },
  {
   "cell_type": "code",
   "execution_count": 42,
   "metadata": {},
   "outputs": [
    {
     "data": {
      "text/plain": [
       "('OK', [b'rakeshsdetautomation@gmail.com authenticated (Success)'])"
      ]
     },
     "execution_count": 42,
     "metadata": {},
     "output_type": "execute_result"
    }
   ],
   "source": [
    "M.login(email, password)"
   ]
  },
  {
   "cell_type": "code",
   "execution_count": 43,
   "metadata": {},
   "outputs": [
    {
     "data": {
      "text/plain": [
       "('OK',\n",
       " [b'(\\\\HasNoChildren) \"/\" \"INBOX\"',\n",
       "  b'(\\\\HasChildren \\\\Noselect) \"/\" \"[Gmail]\"',\n",
       "  b'(\\\\All \\\\HasNoChildren) \"/\" \"[Gmail]/All Mail\"',\n",
       "  b'(\\\\Drafts \\\\HasNoChildren) \"/\" \"[Gmail]/Drafts\"',\n",
       "  b'(\\\\HasNoChildren \\\\Important) \"/\" \"[Gmail]/Important\"',\n",
       "  b'(\\\\HasNoChildren \\\\Sent) \"/\" \"[Gmail]/Sent Mail\"',\n",
       "  b'(\\\\HasNoChildren \\\\Junk) \"/\" \"[Gmail]/Spam\"',\n",
       "  b'(\\\\Flagged \\\\HasNoChildren) \"/\" \"[Gmail]/Starred\"',\n",
       "  b'(\\\\HasNoChildren \\\\Trash) \"/\" \"[Gmail]/Trash\"'])"
      ]
     },
     "execution_count": 43,
     "metadata": {},
     "output_type": "execute_result"
    }
   ],
   "source": [
    "M.list()"
   ]
  },
  {
   "cell_type": "code",
   "execution_count": 53,
   "metadata": {},
   "outputs": [
    {
     "data": {
      "text/plain": [
       "('OK', [b'23'])"
      ]
     },
     "execution_count": 53,
     "metadata": {},
     "output_type": "execute_result"
    }
   ],
   "source": [
    "M.select('inbox')"
   ]
  },
  {
   "cell_type": "markdown",
   "metadata": {},
   "source": [
    "'ALL' : return all emails. we can change limit from 100 by imaplib._MAXLINE=100\n",
    "\n",
    "'BEFORE date' : date must be formatted as '01-Nov-2000'\n",
    "\n",
    "'ON date'\n",
    "\n",
    "'SINCE date'\n",
    "\n",
    "'FROM some_string' : from an email id or a string that may appear in the email\n",
    "\n",
    "'TO some_string'\n",
    "\n",
    "'CC some_string' and/or 'BCC some string'\n",
    "\n",
    "'SUBJECT string','BODY string','TEXT \"string with spaces\"'\n",
    "\n",
    "'SEEN','UNSEEN'\n",
    "\n",
    "'ANSWERED','UNANSWERED'\n",
    "\n",
    "'DELETED','UNDELETED'"
   ]
  },
  {
   "cell_type": "code",
   "execution_count": 54,
   "metadata": {},
   "outputs": [],
   "source": [
    "typ, data = M.search(None, 'SUBJECT \"New test python\"')"
   ]
  },
  {
   "cell_type": "code",
   "execution_count": 55,
   "metadata": {},
   "outputs": [
    {
     "data": {
      "text/plain": [
       "'OK'"
      ]
     },
     "execution_count": 55,
     "metadata": {},
     "output_type": "execute_result"
    }
   ],
   "source": [
    "typ"
   ]
  },
  {
   "cell_type": "code",
   "execution_count": 56,
   "metadata": {},
   "outputs": [
    {
     "data": {
      "text/plain": [
       "[b'23']"
      ]
     },
     "execution_count": 56,
     "metadata": {},
     "output_type": "execute_result"
    }
   ],
   "source": [
    "data"
   ]
  },
  {
   "cell_type": "code",
   "execution_count": 57,
   "metadata": {},
   "outputs": [],
   "source": [
    "emailid = data[0]"
   ]
  },
  {
   "cell_type": "code",
   "execution_count": 58,
   "metadata": {},
   "outputs": [],
   "source": [
    "result, email_data = M.fetch(emailid, 'RFC822')"
   ]
  },
  {
   "cell_type": "code",
   "execution_count": 59,
   "metadata": {},
   "outputs": [
    {
     "data": {
      "text/plain": [
       "[(b'23 (RFC822 {5515}',\n",
       "  b'Delivered-To: rakeshsdetautomation@gmail.com\\r\\nReceived: by 2002:a0c:a98a:0:0:0:0:0 with SMTP id a10csp8959qvb;\\r\\n        Tue, 7 Jul 2020 16:57:16 -0700 (PDT)\\r\\nX-Received: by 2002:a37:e8c:: with SMTP id 134mr52313282qko.462.1594166236047;\\r\\n        Tue, 07 Jul 2020 16:57:16 -0700 (PDT)\\r\\nARC-Seal: i=1; a=rsa-sha256; t=1594166236; cv=none;\\r\\n        d=google.com; s=arc-20160816;\\r\\n        b=MK9wNnu0wrc4GpSQxDjQ7F20XEdzZiJAgmSkyGAEErsCHq5BJTlz080t3qZ700zUWb\\r\\n         281GdPt4MJCCrv+CQkr3HSa+eSM5GYe5xSHzBbdeMn904/v7FelO3T32S6d5XYVdduim\\r\\n         uO9yjaE8VHv45Eq0EULEyxHn03VhVI9zyXmYsUkOKS++sEH+zDJtRhDh5JAIEOfAANG8\\r\\n         43xI/e9NKG458UOIRsRiRE96jezKtxa7shMKC+Hnh39G4e5tUmvBKVZwbOuDx+onYvHI\\r\\n         36SiDA73I1dFzzyzV50b5dWHQ1CopH//ZpyqcAqAwCLYXyWgP/IFkA6unclM1VpcW6jw\\r\\n         QlIw==\\r\\nARC-Message-Signature: i=1; a=rsa-sha256; c=relaxed/relaxed; d=google.com; s=arc-20160816;\\r\\n        h=to:subject:message-id:date:from:in-reply-to:references:mime-version\\r\\n         :dkim-signature;\\r\\n        bh=37twisabKtu0nNs6T2BNjuYm8mAImxsOgoP7HD8GsfU=;\\r\\n        b=XK/ZKTa2l/FqgEP5zg4CVYCroDesRMZ6OsywJ8LoeKETdJp1G8QtZL+r42zxaumSyJ\\r\\n         d1d0c2CJxxWTO/iHoQa6varqXcVl4UAOQMPeCLmpCJnL8JS9ak0imEgAiLxDO2mPQuqv\\r\\n         /Z4xZsBu1CdU1vXvGXJsFUrLUy8UjLZuARGTbTiij9O7160jxSjFeT0zTtDU9qS+j0+k\\r\\n         /fZIThgJStFZb5gKM2zMqLyaYLtWOXyiFe4AV7ds3I9d6v6k6kdTImBWGkVMIeB1zg60\\r\\n         IV/1sf/EqAVBohRz1vP5eGiSLDXHE4NZ6y+mX938epEUpzIfB2Rho9ciW3n8jAn/oEYc\\r\\n         Zxog==\\r\\nARC-Authentication-Results: i=1; mx.google.com;\\r\\n       dkim=pass header.i=@gmail.com header.s=20161025 header.b=J6lNpnu3;\\r\\n       spf=pass (google.com: domain of rakesh.xyzz@gmail.com designates 209.85.220.41 as permitted sender) smtp.mailfrom=rakesh.xyzz@gmail.com;\\r\\n       dmarc=pass (p=NONE sp=QUARANTINE dis=NONE) header.from=gmail.com\\r\\nReturn-Path: <rakesh.xyzz@gmail.com>\\r\\nReceived: from mail-sor-f41.google.com (mail-sor-f41.google.com. [209.85.220.41])\\r\\n        by mx.google.com with SMTPS id d5sor20480347qkn.148.2020.07.07.16.57.15\\r\\n        for <rakeshsdetautomation@gmail.com>\\r\\n        (Google Transport Security);\\r\\n        Tue, 07 Jul 2020 16:57:16 -0700 (PDT)\\r\\nReceived-SPF: pass (google.com: domain of rakesh.xyzz@gmail.com designates 209.85.220.41 as permitted sender) client-ip=209.85.220.41;\\r\\nAuthentication-Results: mx.google.com;\\r\\n       dkim=pass header.i=@gmail.com header.s=20161025 header.b=J6lNpnu3;\\r\\n       spf=pass (google.com: domain of rakesh.xyzz@gmail.com designates 209.85.220.41 as permitted sender) smtp.mailfrom=rakesh.xyzz@gmail.com;\\r\\n       dmarc=pass (p=NONE sp=QUARANTINE dis=NONE) header.from=gmail.com\\r\\nDKIM-Signature: v=1; a=rsa-sha256; c=relaxed/relaxed;\\r\\n        d=gmail.com; s=20161025;\\r\\n        h=mime-version:references:in-reply-to:from:date:message-id:subject:to;\\r\\n        bh=37twisabKtu0nNs6T2BNjuYm8mAImxsOgoP7HD8GsfU=;\\r\\n        b=J6lNpnu32GfzU1Hyiq4mvOozVacsTTZ24w/HAFbRojL+I+ERHnRMtYjP1O4pQtad4G\\r\\n         RbyihXVlP7tcXKQzbWAKOKlK1mkfseMehdrk5VujIEheV+X8sKxzB0wzuwrYpVefEnFX\\r\\n         w2CTEuDkEv7k/lh5Fl1nol+RBUlpucRgeX5vf+vNxIxorKIhYY4XWAxPtAnh4W+BCeKx\\r\\n         iGJWxAizFBLhbPkW9bogEej7GDa7KBLnj3Ws/csDlUBy6CpSTT4u+mAKNM5A7fkoyhIT\\r\\n         j54lXFaguUdOT0wnDDIBCEM8v6uv3F4LvePl/qZ1VTWaKWc3aTdCfw59noj9RCALG76P\\r\\n         rx3Q==\\r\\nX-Google-DKIM-Signature: v=1; a=rsa-sha256; c=relaxed/relaxed;\\r\\n        d=1e100.net; s=20161025;\\r\\n        h=x-gm-message-state:mime-version:references:in-reply-to:from:date\\r\\n         :message-id:subject:to;\\r\\n        bh=37twisabKtu0nNs6T2BNjuYm8mAImxsOgoP7HD8GsfU=;\\r\\n        b=QYU9wz4vHVZebB6KlrdAd2W7uNB/X4DhA9vj26hUGzD37LavKUAtEb8bYR8ba4wi6+\\r\\n         sqzr81rO/TJzquwnU7X64mnooMIFPKkapOxxlXtFylE7YwtwrrubwdTm7dUMO0E4vGuc\\r\\n         8HrZgnKjSrEM32yW2HVWCM8VjxPtXKlGY1ebMUwVWLKmcplqF7ItQXbJ3NYMdQ2O8ziY\\r\\n         xxGMQUObo4NifRWX1vd3BTOBw/w9FkP4nxTTTRKuq2US+fObEgUhvRdJbvk0IiGj5BTt\\r\\n         IQfJqp3rGmI4u8ohVgZ6ZEs1nI0CzGV1HTIXtbz/ZWDO2SeOEvJywar1FDGANC7awDlL\\r\\n         tKVw==\\r\\nX-Gm-Message-State: AOAM532IZYXGxHTORIoFq3qLYUZPOqy7Q7esUcpBuwW5HZnh6YlHc+8m\\r\\n\\t/0dNAivhqRGi8LCB3scpdx64E28igvYsgzDmjZl7OPw+\\r\\nX-Google-Smtp-Source: ABdhPJzYBRMogESKLfnLqgL1QQzUbrFaaCXNpvtKYgkQUec/nUkT6lclJUPvcLro+K3KKMEZHsKGBcjz78eKv7xeTsE=\\r\\nX-Received: by 2002:a37:b987:: with SMTP id j129mr53130902qkf.120.1594166235576;\\r\\n Tue, 07 Jul 2020 16:57:15 -0700 (PDT)\\r\\nMIME-Version: 1.0\\r\\nReferences: <5f050487.1c69fb81.aea12.6abe@mx.google.com>\\r\\nIn-Reply-To: <5f050487.1c69fb81.aea12.6abe@mx.google.com>\\r\\nFrom: Rakesh Kumar <rakesh.xyzz@gmail.com>\\r\\nDate: Tue, 7 Jul 2020 18:57:03 -0500\\r\\nMessage-ID: <CAG+iTABFB_Z-nBkr7+uEnSTj7TSEwwgFJQNVRSUUbYi6d9czjQ@mail.gmail.com>\\r\\nSubject: New test python\\r\\nTo: rakeshsdetautomation@gmail.com\\r\\nContent-Type: multipart/alternative; boundary=\"0000000000002f3dbc05a9e2c038\"\\r\\n\\r\\n--0000000000002f3dbc05a9e2c038\\r\\nContent-Type: text/plain; charset=\"UTF-8\"\\r\\n\\r\\nhi. this is Rakesh kumar.\\r\\n\\r\\nOn Tue, 7 Jul, 2020, 6:26 pm , <rakeshsdetautomation@gmail.com> wrote:\\r\\n\\r\\n> Hello! This is a test.\\r\\n>\\r\\n\\r\\n--0000000000002f3dbc05a9e2c038\\r\\nContent-Type: text/html; charset=\"UTF-8\"\\r\\nContent-Transfer-Encoding: quoted-printable\\r\\n\\r\\n<div dir=3D\"auto\">hi. this is Rakesh kumar.</div><br><div class=3D\"gmail_qu=\\r\\note\"><div dir=3D\"ltr\" class=3D\"gmail_attr\">On Tue, 7 Jul, 2020, 6:26 pm , &=\\r\\nlt;<a href=3D\"mailto:rakeshsdetautomation@gmail.com\">rakeshsdetautomation@g=\\r\\nmail.com</a>&gt; wrote:<br></div><blockquote class=3D\"gmail_quote\" style=3D=\\r\\n\"margin:0 0 0 .8ex;border-left:1px #ccc solid;padding-left:1ex\">Hello! This=\\r\\n is a test.<br>\\r\\n</blockquote></div>\\r\\n\\r\\n--0000000000002f3dbc05a9e2c038--\\r\\n'),\n",
       " b' FLAGS (\\\\Seen))']"
      ]
     },
     "execution_count": 59,
     "metadata": {},
     "output_type": "execute_result"
    }
   ],
   "source": [
    "email_data"
   ]
  },
  {
   "cell_type": "code",
   "execution_count": 60,
   "metadata": {},
   "outputs": [],
   "source": [
    "raw_email = email_data[0][1]"
   ]
  },
  {
   "cell_type": "code",
   "execution_count": 62,
   "metadata": {},
   "outputs": [],
   "source": [
    "raw_email_string = raw_email.decode('utf-8')"
   ]
  },
  {
   "cell_type": "code",
   "execution_count": 63,
   "metadata": {},
   "outputs": [],
   "source": [
    "import email"
   ]
  },
  {
   "cell_type": "code",
   "execution_count": 64,
   "metadata": {},
   "outputs": [],
   "source": [
    "email_message = email.message_from_string(raw_email_string)"
   ]
  },
  {
   "cell_type": "code",
   "execution_count": 66,
   "metadata": {},
   "outputs": [
    {
     "data": {
      "text/plain": [
       "<email.message.Message at 0x7fedf6db8390>"
      ]
     },
     "execution_count": 66,
     "metadata": {},
     "output_type": "execute_result"
    }
   ],
   "source": [
    "#email message will be an iterator\n",
    "email_message"
   ]
  },
  {
   "cell_type": "code",
   "execution_count": 67,
   "metadata": {},
   "outputs": [
    {
     "name": "stdout",
     "output_type": "stream",
     "text": [
      "b'hi. this is Rakesh kumar.\\r\\n\\r\\nOn Tue, 7 Jul, 2020, 6:26 pm , <rakeshsdetautomation@gmail.com> wrote:\\r\\n\\r\\n> Hello! This is a test.\\r\\n>\\r\\n'\n"
     ]
    }
   ],
   "source": [
    "for part in email_message.walk():\n",
    "    if part.get_content_type() == 'text/plain':\n",
    "        body = part.get_payload(decode=True)\n",
    "        print(body)"
   ]
  },
  {
   "cell_type": "code",
   "execution_count": 68,
   "metadata": {},
   "outputs": [
    {
     "data": {
      "text/plain": [
       "('OK', [b'Returned to authenticated state. (Success)'])"
      ]
     },
     "execution_count": 68,
     "metadata": {},
     "output_type": "execute_result"
    }
   ],
   "source": [
    "M.close()"
   ]
  },
  {
   "cell_type": "code",
   "execution_count": null,
   "metadata": {},
   "outputs": [],
   "source": []
  }
 ],
 "metadata": {
  "kernelspec": {
   "display_name": "Python 3",
   "language": "python",
   "name": "python3"
  },
  "language_info": {
   "codemirror_mode": {
    "name": "ipython",
    "version": 3
   },
   "file_extension": ".py",
   "mimetype": "text/x-python",
   "name": "python",
   "nbconvert_exporter": "python",
   "pygments_lexer": "ipython3",
   "version": "3.7.6"
  }
 },
 "nbformat": 4,
 "nbformat_minor": 4
}
