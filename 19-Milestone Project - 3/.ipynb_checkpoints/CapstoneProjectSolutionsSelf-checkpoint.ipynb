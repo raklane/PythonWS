{
 "cells": [
  {
   "cell_type": "markdown",
   "metadata": {},
   "source": [
    "Find PI to the Nth Digit - Enter a number and have the program generate π (pi) up to that many decimal places. Keep a limit to how far the program will go."
   ]
  },
  {
   "cell_type": "code",
   "execution_count": 7,
   "metadata": {},
   "outputs": [
    {
     "name": "stdout",
     "output_type": "stream",
     "text": [
      "Enter the number of digits for precision less than 12: 24\n",
      "Enter a number less than 12.\n",
      "Enter the number of digits for precision less than 12: rakesh\n",
      "Enter a valid number.\n",
      "Enter the number of digits for precision less than 12: 11\n"
     ]
    },
    {
     "data": {
      "text/plain": [
       "3.14159265359"
      ]
     },
     "execution_count": 7,
     "metadata": {},
     "output_type": "execute_result"
    }
   ],
   "source": [
    "import math\n",
    "a = math.pi\n",
    "while True:\n",
    "    try:\n",
    "        N = int(input('Enter the number of digits for precision less than 12: '))\n",
    "    except:\n",
    "        print('Enter a valid number.')\n",
    "        continue\n",
    "    else:\n",
    "        if N >= 12:\n",
    "            print('Enter a number less than 12.')\n",
    "            continue\n",
    "        break\n",
    "round(a, N)"
   ]
  },
  {
   "cell_type": "markdown",
   "metadata": {},
   "source": [
    "Find e to the Nth Digit - Just like the previous problem, but with e instead of π (pi). Enter a number and have the program generate e up to that many decimal places. Keep a limit to how far the program will go."
   ]
  },
  {
   "cell_type": "code",
   "execution_count": 8,
   "metadata": {},
   "outputs": [
    {
     "name": "stdout",
     "output_type": "stream",
     "text": [
      "Enter the number of digits for precision less than 12: 15\n",
      "Enter a number less than 12.\n",
      "Enter the number of digits for precision less than 12: ddf\n",
      "Enter a valid number.\n",
      "Enter the number of digits for precision less than 12: 4\n"
     ]
    },
    {
     "data": {
      "text/plain": [
       "2.7183"
      ]
     },
     "execution_count": 8,
     "metadata": {},
     "output_type": "execute_result"
    }
   ],
   "source": [
    "a = math.e\n",
    "while True:\n",
    "    try:\n",
    "        N = int(input('Enter the number of digits for precision less than 12: '))\n",
    "    except:\n",
    "        print('Enter a valid number.')\n",
    "        continue\n",
    "    else:\n",
    "        if N >= 12:\n",
    "            print('Enter a number less than 12.')\n",
    "            continue\n",
    "        break\n",
    "round(a, N)"
   ]
  },
  {
   "cell_type": "markdown",
   "metadata": {},
   "source": [
    "Fibonacci Sequence - Enter a number and have the program generate the Fibonacci sequence to that number or to the Nth number."
   ]
  },
  {
   "cell_type": "code",
   "execution_count": 11,
   "metadata": {},
   "outputs": [
    {
     "name": "stdout",
     "output_type": "stream",
     "text": [
      "Enter the length of Fibonacci series: 15\n",
      "1 2 3 5 8 13 21 34 55 89 144 233 377 610 987 "
     ]
    }
   ],
   "source": [
    "while True:\n",
    "    try:\n",
    "        n = int(input('Enter the length of Fibonacci series: '))\n",
    "    except:\n",
    "        print('Enter a valid number.')\n",
    "        continue\n",
    "    else:\n",
    "        break\n",
    "a = 1\n",
    "b = 1\n",
    "for x in range(1,n+1):\n",
    "    print(b, end = ' ')\n",
    "    a,b = b,a+b"
   ]
  },
  {
   "cell_type": "markdown",
   "metadata": {},
   "source": [
    "Prime Factorization - Have the user enter a number and find all Prime Factors (if there are any) and display them."
   ]
  },
  {
   "cell_type": "code",
   "execution_count": 19,
   "metadata": {},
   "outputs": [
    {
     "name": "stdout",
     "output_type": "stream",
     "text": [
      "Enter a number for finding its prime factors: 176\n",
      "2 11\n"
     ]
    }
   ],
   "source": [
    "while True:\n",
    "    try:\n",
    "        n = int(input('Enter a number for finding its prime factors: '))\n",
    "    except:\n",
    "        print('Enter a valid number.')\n",
    "        continue\n",
    "    else:\n",
    "        break\n",
    "prime_factor = []\n",
    "for x in range (2, n+1):\n",
    "    if n % x == 0:\n",
    "        y = 2\n",
    "        for y in range(2,x+1):\n",
    "            if x == y:\n",
    "                prime_factor.append(x)\n",
    "            elif x % y == 0:\n",
    "                    break\n",
    "print(*prime_factor, sep = ' ')"
   ]
  },
  {
   "cell_type": "markdown",
   "metadata": {},
   "source": [
    "Next Prime Number - Have the program find prime numbers until the user chooses to stop asking for the next one."
   ]
  },
  {
   "cell_type": "code",
   "execution_count": 25,
   "metadata": {},
   "outputs": [
    {
     "name": "stdout",
     "output_type": "stream",
     "text": [
      "Prime numbers are:\n",
      "2 Do you want to see next prime number (y or n): y\n",
      "3 Do you want to see next prime number (y or n): y\n",
      "5 Do you want to see next prime number (y or n): y\n",
      "7 Do you want to see next prime number (y or n): y\n",
      "11 Do you want to see next prime number (y or n): y\n",
      "13 Do you want to see next prime number (y or n): y\n",
      "17 Do you want to see next prime number (y or n): y\n",
      "19 Do you want to see next prime number (y or n): y\n",
      "23 Do you want to see next prime number (y or n): y\n",
      "29 Do you want to see next prime number (y or n): n\n"
     ]
    }
   ],
   "source": [
    "print('Prime numbers are:')\n",
    "display_next = 'y'\n",
    "prime_num = 2\n",
    "\n",
    "while display_next.lower() == 'y':\n",
    "    print(prime_num, end = ' ')\n",
    "    while True:\n",
    "        display_next = input('Do you want to see next prime number (y or n): ')\n",
    "        if display_next.lower() not in ('n','y'):\n",
    "            print('Entered value is not y or n.')\n",
    "            continue\n",
    "        else:\n",
    "            break\n",
    "            \n",
    "    prime = False\n",
    "    while prime==False:\n",
    "        prime_num += 1\n",
    "        for x in range(2, prime_num + 1):\n",
    "            if x == prime_num:\n",
    "                prime = True\n",
    "            elif prime_num % x == 0:\n",
    "                break\n",
    "            "
   ]
  },
  {
   "cell_type": "markdown",
   "metadata": {},
   "source": [
    "Find Cost of Tile to Cover W x H Floor - Calculate the total cost of tile it would take to cover a floor plan of width and height, using a cost entered by the user."
   ]
  },
  {
   "cell_type": "code",
   "execution_count": 26,
   "metadata": {},
   "outputs": [
    {
     "name": "stdout",
     "output_type": "stream",
     "text": [
      "Enter the width: rakesh\n",
      "Enter a valid number.\n",
      "Enter the width: 150\n",
      "Enter the height: fds\n",
      "Enter a valid number.\n",
      "Enter the height: 343.33\n",
      "Enter the cost per square: 22.2\n",
      "2319.7972972972975\n"
     ]
    }
   ],
   "source": [
    "while True:\n",
    "    try:\n",
    "        width = float(input('Enter the width: '))\n",
    "    except:\n",
    "        print('Enter a valid number.')\n",
    "        continue\n",
    "    else:\n",
    "        break\n",
    "while True:\n",
    "    try:\n",
    "        height = float(input('Enter the height: '))\n",
    "    except:\n",
    "        print('Enter a valid number.')\n",
    "        continue\n",
    "    else:\n",
    "        break\n",
    "while True:\n",
    "    try:\n",
    "        cost = float(input('Enter the cost per square: '))\n",
    "    except:\n",
    "        print('Enter a valid number.')\n",
    "        continue\n",
    "    else:\n",
    "        break\n",
    "print(width*height/cost)"
   ]
  },
  {
   "cell_type": "markdown",
   "metadata": {},
   "source": [
    "Mortgage Calculator - Calculate the monthly payments of a fixed term mortgage over given Nth terms at a given interest rate. Also figure out how long it will take the user to pay back the loan. For added complexity, add an option for users to select the compounding interval (Monthly, Weekly, Daily, Continually)."
   ]
  },
  {
   "cell_type": "code",
   "execution_count": 35,
   "metadata": {},
   "outputs": [
    {
     "name": "stdout",
     "output_type": "stream",
     "text": [
      "Enter the loan amount: 6000000\n",
      "Enter the interest rate: 8.1\n",
      "Enter the monthly payment: 50000\n",
      "Number of monthly payements will be: 247\n",
      "Years: 20.583333333333332\n"
     ]
    }
   ],
   "source": [
    "loan = float(input('Enter the loan amount: '))\n",
    "interest_rate = float(input('Enter the interest rate: '))\n",
    "monthly_payment = float(input('Enter the monthly payment: '))\n",
    "\n",
    "number_of_month = 0\n",
    "while loan > 0:\n",
    "    interest = loan *(interest_rate/12) /100\n",
    "    loan = loan + interest - monthly_payment\n",
    "    number_of_month += 1\n",
    "    \n",
    "    if number_of_month >300:\n",
    "        print('Number of monthly payments is more than 300. Increase the monthly payment amount.')\n",
    "        break\n",
    "if number_of_month <= 300:\n",
    "    print('Number of monthly payements will be: {}'.format(number_of_month))\n",
    "    print('Years: {}'.format(number_of_month/12))"
   ]
  },
  {
   "cell_type": "code",
   "execution_count": null,
   "metadata": {},
   "outputs": [],
   "source": []
  }
 ],
 "metadata": {
  "kernelspec": {
   "display_name": "Python 3",
   "language": "python",
   "name": "python3"
  },
  "language_info": {
   "codemirror_mode": {
    "name": "ipython",
    "version": 3
   },
   "file_extension": ".py",
   "mimetype": "text/x-python",
   "name": "python",
   "nbconvert_exporter": "python",
   "pygments_lexer": "ipython3",
   "version": "3.7.6"
  }
 },
 "nbformat": 4,
 "nbformat_minor": 4
}
