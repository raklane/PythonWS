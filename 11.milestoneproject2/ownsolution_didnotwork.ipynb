{
 "cells": [
  {
   "cell_type": "code",
   "execution_count": 173,
   "metadata": {},
   "outputs": [],
   "source": [
    "from random import shuffle\n",
    "\n",
    "class Cards:\n",
    "    heart = set()\n",
    "    spades = set()\n",
    "    clubs = set()\n",
    "    diamond = set()\n",
    "    cards = []\n",
    "    \n",
    "    def __init__(self):\n",
    "        for i in range (2,12):\n",
    "            if i == 11:\n",
    "                for j in ['j','q','k','a']:\n",
    "                    Cards.heart.add(f'heart {j}')\n",
    "                    Cards.spades.add(f'spades {j}')\n",
    "                    Cards.clubs.add(f'clubs {j}')\n",
    "                    Cards.diamond.add(f'diamond {j}')\n",
    "                break\n",
    "            Cards.heart.add(f'heart {i}')\n",
    "            Cards.spades.add(f'spades {i}')\n",
    "            Cards.clubs.add(f'clubs {i}')\n",
    "            Cards.diamond.add(f'diamond {i}')\n",
    "        \n",
    "        for color in [Cards.heart, Cards.spades, Cards.clubs, Cards.diamond]:\n",
    "            for card in color:\n",
    "                Cards.cards.append(card)\n",
    "        \n",
    "        shuffle(Cards.cards)\n",
    "        \n",
    "    def show_cards(self):\n",
    "        for card in Cards.cards:\n",
    "            print(card, end = ' ')\n",
    "        \n",
    "    "
   ]
  },
  {
   "cell_type": "code",
   "execution_count": 174,
   "metadata": {},
   "outputs": [],
   "source": [
    "class Player:\n",
    "    flipped_cards = []\n",
    "    face_cards = []\n",
    "    \n",
    "    def __init__(self):\n",
    "        pass\n",
    "        \n",
    "    \n",
    "    def distribute_cards(self,cards):\n",
    "        for i in range(1,27):\n",
    "            try:\n",
    "                Player.flipped_cards.append(cards.pop())\n",
    "            except IndexError:\n",
    "                print(f'Ran out of cards after {i-1} flips')\n",
    "                break\n",
    "       \n",
    "            \n",
    "    def display_player_flipped_cards(self):\n",
    "        for card in Player.flipped_cards:\n",
    "            print(card, end = ' ')\n",
    "    \n",
    "    "
   ]
  },
  {
   "cell_type": "code",
   "execution_count": 175,
   "metadata": {},
   "outputs": [],
   "source": [
    "mycards = Cards()"
   ]
  },
  {
   "cell_type": "code",
   "execution_count": 176,
   "metadata": {},
   "outputs": [
    {
     "data": {
      "text/plain": [
       "52"
      ]
     },
     "execution_count": 176,
     "metadata": {},
     "output_type": "execute_result"
    }
   ],
   "source": [
    "len(Cards.cards)"
   ]
  },
  {
   "cell_type": "code",
   "execution_count": 177,
   "metadata": {},
   "outputs": [
    {
     "name": "stdout",
     "output_type": "stream",
     "text": [
      "heart 5 diamond k diamond 10 spades 4 heart 3 clubs 9 clubs a heart 7 diamond 8 spades 5 heart 2 diamond q clubs 7 diamond 3 diamond a heart 6 clubs 2 diamond 6 diamond 7 heart 10 clubs 5 heart k clubs 4 heart q heart 8 clubs q diamond 5 diamond 9 spades k diamond 4 spades 6 spades 10 spades 7 heart a heart 9 diamond j spades 8 clubs 10 diamond 2 spades 9 clubs 8 clubs j spades a spades j clubs 6 heart 4 spades 2 heart j clubs 3 spades q spades 3 clubs k "
     ]
    }
   ],
   "source": [
    "mycards.show_cards()"
   ]
  },
  {
   "cell_type": "code",
   "execution_count": null,
   "metadata": {},
   "outputs": [],
   "source": []
  },
  {
   "cell_type": "code",
   "execution_count": 178,
   "metadata": {},
   "outputs": [],
   "source": [
    "player1 = Player()"
   ]
  },
  {
   "cell_type": "code",
   "execution_count": 179,
   "metadata": {},
   "outputs": [],
   "source": [
    "player1.distribute_cards(mycards.cards)"
   ]
  },
  {
   "cell_type": "code",
   "execution_count": 180,
   "metadata": {},
   "outputs": [
    {
     "name": "stdout",
     "output_type": "stream",
     "text": [
      "clubs k spades 3 spades q clubs 3 heart j spades 2 heart 4 clubs 6 spades j spades a clubs j clubs 8 spades 9 diamond 2 clubs 10 spades 8 diamond j heart 9 heart a spades 7 spades 10 spades 6 diamond 4 spades k diamond 9 diamond 5 "
     ]
    }
   ],
   "source": [
    "player1.display_player_flipped_cards()"
   ]
  },
  {
   "cell_type": "code",
   "execution_count": 181,
   "metadata": {},
   "outputs": [
    {
     "name": "stdout",
     "output_type": "stream",
     "text": [
      "heart 5 diamond k diamond 10 spades 4 heart 3 clubs 9 clubs a heart 7 diamond 8 spades 5 heart 2 diamond q clubs 7 diamond 3 diamond a heart 6 clubs 2 diamond 6 diamond 7 heart 10 clubs 5 heart k clubs 4 heart q heart 8 clubs q "
     ]
    }
   ],
   "source": [
    "mycards.show_cards()"
   ]
  },
  {
   "cell_type": "code",
   "execution_count": 182,
   "metadata": {},
   "outputs": [
    {
     "data": {
      "text/plain": [
       "26"
      ]
     },
     "execution_count": 182,
     "metadata": {},
     "output_type": "execute_result"
    }
   ],
   "source": [
    "len(mycards.cards)"
   ]
  },
  {
   "cell_type": "code",
   "execution_count": null,
   "metadata": {},
   "outputs": [],
   "source": []
  },
  {
   "cell_type": "code",
   "execution_count": 183,
   "metadata": {},
   "outputs": [],
   "source": [
    "player2 = Player()"
   ]
  },
  {
   "cell_type": "code",
   "execution_count": 184,
   "metadata": {},
   "outputs": [],
   "source": [
    "player2.distribute_cards(mycards.cards)"
   ]
  },
  {
   "cell_type": "code",
   "execution_count": 185,
   "metadata": {},
   "outputs": [
    {
     "name": "stdout",
     "output_type": "stream",
     "text": [
      "clubs k spades 3 spades q clubs 3 heart j spades 2 heart 4 clubs 6 spades j spades a clubs j clubs 8 spades 9 diamond 2 clubs 10 spades 8 diamond j heart 9 heart a spades 7 spades 10 spades 6 diamond 4 spades k diamond 9 diamond 5 clubs q heart 8 heart q clubs 4 heart k clubs 5 heart 10 diamond 7 diamond 6 clubs 2 heart 6 diamond a diamond 3 clubs 7 diamond q heart 2 spades 5 diamond 8 heart 7 clubs a clubs 9 heart 3 spades 4 diamond 10 diamond k heart 5 "
     ]
    }
   ],
   "source": [
    "player2.display_player_flipped_cards()"
   ]
  },
  {
   "cell_type": "code",
   "execution_count": 155,
   "metadata": {},
   "outputs": [
    {
     "data": {
      "text/plain": [
       "0"
      ]
     },
     "execution_count": 155,
     "metadata": {},
     "output_type": "execute_result"
    }
   ],
   "source": [
    "len(mycards.cards)"
   ]
  },
  {
   "cell_type": "code",
   "execution_count": 156,
   "metadata": {},
   "outputs": [],
   "source": [
    "mycards.show_cards()"
   ]
  },
  {
   "cell_type": "code",
   "execution_count": 158,
   "metadata": {},
   "outputs": [
    {
     "data": {
      "text/plain": [
       "52"
      ]
     },
     "execution_count": 158,
     "metadata": {},
     "output_type": "execute_result"
    }
   ],
   "source": [
    "len(player2.flipped_cards)"
   ]
  },
  {
   "cell_type": "code",
   "execution_count": null,
   "metadata": {},
   "outputs": [],
   "source": []
  }
 ],
 "metadata": {
  "kernelspec": {
   "display_name": "Python 3",
   "language": "python",
   "name": "python3"
  },
  "language_info": {
   "codemirror_mode": {
    "name": "ipython",
    "version": 3
   },
   "file_extension": ".py",
   "mimetype": "text/x-python",
   "name": "python",
   "nbconvert_exporter": "python",
   "pygments_lexer": "ipython3",
   "version": "3.7.6"
  }
 },
 "nbformat": 4,
 "nbformat_minor": 4
}
