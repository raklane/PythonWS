{
 "cells": [
  {
   "cell_type": "code",
   "execution_count": 141,
   "metadata": {},
   "outputs": [],
   "source": [
    "from random import shuffle\n",
    "\n",
    "class Cards:\n",
    "    heart = set()\n",
    "    spades = set()\n",
    "    clubs = set()\n",
    "    diamond = set()\n",
    "    cards = []\n",
    "    \n",
    "    def __init__(self):\n",
    "        for i in range (2,12):\n",
    "            if i == 11:\n",
    "                for j in ['j','q','k','a']:\n",
    "                    Cards.heart.add(f'heart {j}')\n",
    "                    Cards.spades.add(f'spades {j}')\n",
    "                    Cards.clubs.add(f'clubs {j}')\n",
    "                    Cards.diamond.add(f'diamond {j}')\n",
    "                break\n",
    "            Cards.heart.add(f'heart {i}')\n",
    "            Cards.spades.add(f'spades {i}')\n",
    "            Cards.clubs.add(f'clubs {i}')\n",
    "            Cards.diamond.add(f'diamond {i}')\n",
    "        \n",
    "        for color in [Cards.heart, Cards.spades, Cards.clubs, Cards.diamond]:\n",
    "            for card in color:\n",
    "                Cards.cards.append(card)\n",
    "        \n",
    "        shuffle(Cards.cards)\n",
    "        \n",
    "    def show_cards(self):\n",
    "        for card in Cards.cards:\n",
    "            print(card, end = ' ')\n",
    "        \n",
    "    "
   ]
  },
  {
   "cell_type": "code",
   "execution_count": 142,
   "metadata": {},
   "outputs": [],
   "source": [
    "class Player:\n",
    "    flipped_cards = []\n",
    "    face_cards = []\n",
    "    \n",
    "    def __init__(self):\n",
    "        pass\n",
    "        \n",
    "    \n",
    "    def distribute_cards(self,cards):\n",
    "        for i in range(1,27):\n",
    "            try:\n",
    "                Player.flipped_cards.append(cards.pop())\n",
    "            except IndexError:\n",
    "                print(f'Ran out of cards after {i-1} flips')\n",
    "                break\n",
    "       \n",
    "            \n",
    "    def display_player_flipped_cards(self):\n",
    "        for card in Player.flipped_cards:\n",
    "            print(card, end = ' ')\n",
    "    \n",
    "    "
   ]
  },
  {
   "cell_type": "code",
   "execution_count": 143,
   "metadata": {},
   "outputs": [],
   "source": [
    "mycards = Cards()"
   ]
  },
  {
   "cell_type": "code",
   "execution_count": 144,
   "metadata": {},
   "outputs": [
    {
     "data": {
      "text/plain": [
       "52"
      ]
     },
     "execution_count": 144,
     "metadata": {},
     "output_type": "execute_result"
    }
   ],
   "source": [
    "len(Cards.cards)"
   ]
  },
  {
   "cell_type": "code",
   "execution_count": 145,
   "metadata": {},
   "outputs": [
    {
     "name": "stdout",
     "output_type": "stream",
     "text": [
      "diamond 8 clubs j heart 10 diamond 6 heart 8 diamond 10 heart k clubs 4 clubs q diamond a diamond 7 spades 3 clubs 10 heart 6 diamond k heart q diamond 3 diamond 9 diamond 4 spades q clubs k heart 3 clubs 2 spades 9 clubs 3 heart 5 clubs 8 spades 2 heart 4 clubs a diamond j clubs 7 spades 5 heart 7 spades j clubs 6 diamond 5 clubs 9 heart 2 heart 9 clubs 5 spades 7 heart a spades 8 spades 4 spades a spades 10 spades k diamond q spades 6 heart j diamond 2 "
     ]
    }
   ],
   "source": [
    "mycards.show_cards()"
   ]
  },
  {
   "cell_type": "code",
   "execution_count": null,
   "metadata": {},
   "outputs": [],
   "source": []
  },
  {
   "cell_type": "code",
   "execution_count": 146,
   "metadata": {},
   "outputs": [],
   "source": [
    "player1 = Player(mycards)"
   ]
  },
  {
   "cell_type": "code",
   "execution_count": 159,
   "metadata": {},
   "outputs": [
    {
     "name": "stdout",
     "output_type": "stream",
     "text": [
      "Ran out of cards after 0 flips\n"
     ]
    }
   ],
   "source": [
    "player1.distribute_cards()"
   ]
  },
  {
   "cell_type": "code",
   "execution_count": 160,
   "metadata": {},
   "outputs": [
    {
     "name": "stdout",
     "output_type": "stream",
     "text": [
      "diamond 2 heart j spades 6 diamond q spades k spades 10 spades a spades 4 spades 8 heart a spades 7 clubs 5 heart 9 heart 2 clubs 9 diamond 5 clubs 6 spades j heart 7 spades 5 clubs 7 diamond j clubs a heart 4 spades 2 clubs 8 heart 5 clubs 3 spades 9 clubs 2 heart 3 clubs k spades q diamond 4 diamond 9 diamond 3 heart q diamond k heart 6 clubs 10 spades 3 diamond 7 diamond a clubs q clubs 4 heart k diamond 10 heart 8 diamond 6 heart 10 clubs j diamond 8 "
     ]
    }
   ],
   "source": [
    "player1.display_player_flipped_cards()"
   ]
  },
  {
   "cell_type": "code",
   "execution_count": 161,
   "metadata": {},
   "outputs": [],
   "source": [
    "mycards.show_cards()"
   ]
  },
  {
   "cell_type": "code",
   "execution_count": 150,
   "metadata": {},
   "outputs": [
    {
     "data": {
      "text/plain": [
       "26"
      ]
     },
     "execution_count": 150,
     "metadata": {},
     "output_type": "execute_result"
    }
   ],
   "source": [
    "len(mycards.cards)"
   ]
  },
  {
   "cell_type": "code",
   "execution_count": null,
   "metadata": {},
   "outputs": [],
   "source": []
  },
  {
   "cell_type": "code",
   "execution_count": 151,
   "metadata": {},
   "outputs": [],
   "source": [
    "player2 = Player(mycards)"
   ]
  },
  {
   "cell_type": "code",
   "execution_count": 152,
   "metadata": {},
   "outputs": [],
   "source": [
    "player2.distribute_cards()"
   ]
  },
  {
   "cell_type": "code",
   "execution_count": 154,
   "metadata": {},
   "outputs": [
    {
     "name": "stdout",
     "output_type": "stream",
     "text": [
      "diamond 2 heart j spades 6 diamond q spades k spades 10 spades a spades 4 spades 8 heart a spades 7 clubs 5 heart 9 heart 2 clubs 9 diamond 5 clubs 6 spades j heart 7 spades 5 clubs 7 diamond j clubs a heart 4 spades 2 clubs 8 heart 5 clubs 3 spades 9 clubs 2 heart 3 clubs k spades q diamond 4 diamond 9 diamond 3 heart q diamond k heart 6 clubs 10 spades 3 diamond 7 diamond a clubs q clubs 4 heart k diamond 10 heart 8 diamond 6 heart 10 clubs j diamond 8 "
     ]
    }
   ],
   "source": [
    "player2.display_player_flipped_cards()"
   ]
  },
  {
   "cell_type": "code",
   "execution_count": 155,
   "metadata": {},
   "outputs": [
    {
     "data": {
      "text/plain": [
       "0"
      ]
     },
     "execution_count": 155,
     "metadata": {},
     "output_type": "execute_result"
    }
   ],
   "source": [
    "len(mycards.cards)"
   ]
  },
  {
   "cell_type": "code",
   "execution_count": 156,
   "metadata": {},
   "outputs": [],
   "source": [
    "mycards.show_cards()"
   ]
  },
  {
   "cell_type": "code",
   "execution_count": 158,
   "metadata": {},
   "outputs": [
    {
     "data": {
      "text/plain": [
       "52"
      ]
     },
     "execution_count": 158,
     "metadata": {},
     "output_type": "execute_result"
    }
   ],
   "source": [
    "len(player2.flipped_cards)"
   ]
  },
  {
   "cell_type": "code",
   "execution_count": null,
   "metadata": {},
   "outputs": [],
   "source": []
  }
 ],
 "metadata": {
  "kernelspec": {
   "display_name": "Python 3",
   "language": "python",
   "name": "python3"
  },
  "language_info": {
   "codemirror_mode": {
    "name": "ipython",
    "version": 3
   },
   "file_extension": ".py",
   "mimetype": "text/x-python",
   "name": "python",
   "nbconvert_exporter": "python",
   "pygments_lexer": "ipython3",
   "version": "3.7.6"
  }
 },
 "nbformat": 4,
 "nbformat_minor": 4
}
