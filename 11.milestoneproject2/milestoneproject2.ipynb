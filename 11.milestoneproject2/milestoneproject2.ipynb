{
 "cells": [
  {
   "cell_type": "code",
   "execution_count": 360,
   "metadata": {},
   "outputs": [],
   "source": [
    "from random import shuffle\n",
    "suits = ('Hearts', 'Diamonds', 'Spades', 'Clubs')\n",
    "ranks = ('Two', 'Three', 'Four', 'Five', 'Six', 'Seven', 'Eight', 'Nine', 'Ten', 'Jack', 'Queen', 'King', 'Ace')\n",
    "values = {'Two':2, 'Three':3, 'Four':4, 'Five':5, 'Six':6, 'Seven':7, 'Eight':8, 'Nine':9, 'Ten':10, 'Jack':11,\n",
    "         'Queen':12, 'King':13, 'Ace':14}"
   ]
  },
  {
   "cell_type": "code",
   "execution_count": 361,
   "metadata": {},
   "outputs": [],
   "source": [
    "#Card Class\n",
    "#SUIT, RANK, VALUE\n",
    "\n",
    "class Card:\n",
    "    \n",
    "    def __init__(self,suit,rank):\n",
    "        self.suit = suit\n",
    "        self.rank = rank\n",
    "        self.value = values[rank]\n",
    "    \n",
    "    def __str__(self):\n",
    "        return self.rank + ' of ' + self.suit"
   ]
  },
  {
   "cell_type": "code",
   "execution_count": 362,
   "metadata": {},
   "outputs": [],
   "source": [
    "two_hearts = Card('Hearts', 'Two')"
   ]
  },
  {
   "cell_type": "code",
   "execution_count": 363,
   "metadata": {},
   "outputs": [
    {
     "data": {
      "text/plain": [
       "<__main__.Card at 0x7f88bb492690>"
      ]
     },
     "execution_count": 363,
     "metadata": {},
     "output_type": "execute_result"
    }
   ],
   "source": [
    "two_hearts"
   ]
  },
  {
   "cell_type": "code",
   "execution_count": 364,
   "metadata": {},
   "outputs": [
    {
     "name": "stdout",
     "output_type": "stream",
     "text": [
      "Two of Hearts\n"
     ]
    }
   ],
   "source": [
    "print(two_hearts)"
   ]
  },
  {
   "cell_type": "code",
   "execution_count": 365,
   "metadata": {},
   "outputs": [
    {
     "data": {
      "text/plain": [
       "'Hearts'"
      ]
     },
     "execution_count": 365,
     "metadata": {},
     "output_type": "execute_result"
    }
   ],
   "source": [
    "two_hearts.suit"
   ]
  },
  {
   "cell_type": "code",
   "execution_count": 366,
   "metadata": {},
   "outputs": [
    {
     "data": {
      "text/plain": [
       "'Two'"
      ]
     },
     "execution_count": 366,
     "metadata": {},
     "output_type": "execute_result"
    }
   ],
   "source": [
    "two_hearts.rank"
   ]
  },
  {
   "cell_type": "code",
   "execution_count": 367,
   "metadata": {},
   "outputs": [
    {
     "data": {
      "text/plain": [
       "2"
      ]
     },
     "execution_count": 367,
     "metadata": {},
     "output_type": "execute_result"
    }
   ],
   "source": [
    "values[two_hearts.rank]"
   ]
  },
  {
   "cell_type": "code",
   "execution_count": 368,
   "metadata": {},
   "outputs": [],
   "source": [
    "three_clubs = Card('Clubs','Three')"
   ]
  },
  {
   "cell_type": "code",
   "execution_count": 369,
   "metadata": {},
   "outputs": [
    {
     "data": {
      "text/plain": [
       "3"
      ]
     },
     "execution_count": 369,
     "metadata": {},
     "output_type": "execute_result"
    }
   ],
   "source": [
    "three_clubs.value"
   ]
  },
  {
   "cell_type": "code",
   "execution_count": 370,
   "metadata": {},
   "outputs": [
    {
     "data": {
      "text/plain": [
       "True"
      ]
     },
     "execution_count": 370,
     "metadata": {},
     "output_type": "execute_result"
    }
   ],
   "source": [
    "two_hearts.value < three_clubs.value"
   ]
  },
  {
   "cell_type": "code",
   "execution_count": 371,
   "metadata": {},
   "outputs": [],
   "source": [
    "class Deck:\n",
    "    \n",
    "    def __init__(self):\n",
    "        self.all_cards = []\n",
    "        for suit in suits:\n",
    "            for rank in ranks:\n",
    "                self.all_cards.append(Card(suit, rank))\n",
    "    \n",
    "    def shuffle_cards(self):\n",
    "        shuffle(self.all_cards)\n",
    "    \n",
    "    def deal_one(self):\n",
    "        return self.all_cards.pop()"
   ]
  },
  {
   "cell_type": "code",
   "execution_count": 372,
   "metadata": {},
   "outputs": [],
   "source": [
    "new_deck = Deck()"
   ]
  },
  {
   "cell_type": "code",
   "execution_count": 373,
   "metadata": {},
   "outputs": [
    {
     "name": "stdout",
     "output_type": "stream",
     "text": [
      "Two of Hearts\n"
     ]
    }
   ],
   "source": [
    "first_card = new_deck.all_cards[0]\n",
    "print(first_card)"
   ]
  },
  {
   "cell_type": "code",
   "execution_count": 374,
   "metadata": {},
   "outputs": [
    {
     "name": "stdout",
     "output_type": "stream",
     "text": [
      "Ace of Clubs\n"
     ]
    }
   ],
   "source": [
    "bottom_card = new_deck.all_cards[-1]\n",
    "print(bottom_card)"
   ]
  },
  {
   "cell_type": "code",
   "execution_count": 375,
   "metadata": {},
   "outputs": [
    {
     "name": "stdout",
     "output_type": "stream",
     "text": [
      "Two of Hearts\n",
      "Three of Hearts\n",
      "Four of Hearts\n",
      "Five of Hearts\n",
      "Six of Hearts\n",
      "Seven of Hearts\n",
      "Eight of Hearts\n",
      "Nine of Hearts\n",
      "Ten of Hearts\n",
      "Jack of Hearts\n",
      "Queen of Hearts\n",
      "King of Hearts\n",
      "Ace of Hearts\n",
      "Two of Diamonds\n",
      "Three of Diamonds\n",
      "Four of Diamonds\n",
      "Five of Diamonds\n",
      "Six of Diamonds\n",
      "Seven of Diamonds\n",
      "Eight of Diamonds\n",
      "Nine of Diamonds\n",
      "Ten of Diamonds\n",
      "Jack of Diamonds\n",
      "Queen of Diamonds\n",
      "King of Diamonds\n",
      "Ace of Diamonds\n",
      "Two of Spades\n",
      "Three of Spades\n",
      "Four of Spades\n",
      "Five of Spades\n",
      "Six of Spades\n",
      "Seven of Spades\n",
      "Eight of Spades\n",
      "Nine of Spades\n",
      "Ten of Spades\n",
      "Jack of Spades\n",
      "Queen of Spades\n",
      "King of Spades\n",
      "Ace of Spades\n",
      "Two of Clubs\n",
      "Three of Clubs\n",
      "Four of Clubs\n",
      "Five of Clubs\n",
      "Six of Clubs\n",
      "Seven of Clubs\n",
      "Eight of Clubs\n",
      "Nine of Clubs\n",
      "Ten of Clubs\n",
      "Jack of Clubs\n",
      "Queen of Clubs\n",
      "King of Clubs\n",
      "Ace of Clubs\n"
     ]
    }
   ],
   "source": [
    "for card_object in new_deck.all_cards:\n",
    "    print(card_object)"
   ]
  },
  {
   "cell_type": "code",
   "execution_count": 376,
   "metadata": {},
   "outputs": [],
   "source": [
    "new_deck.shuffle_cards()"
   ]
  },
  {
   "cell_type": "code",
   "execution_count": 377,
   "metadata": {},
   "outputs": [
    {
     "name": "stdout",
     "output_type": "stream",
     "text": [
      "Nine of Diamonds\n"
     ]
    }
   ],
   "source": [
    "first_card = new_deck.all_cards[0]\n",
    "print(first_card)"
   ]
  },
  {
   "cell_type": "code",
   "execution_count": 378,
   "metadata": {},
   "outputs": [
    {
     "name": "stdout",
     "output_type": "stream",
     "text": [
      "Ace of Clubs\n"
     ]
    }
   ],
   "source": [
    "bottom_card = new_deck.all_cards[-1]\n",
    "print(bottom_card)"
   ]
  },
  {
   "cell_type": "code",
   "execution_count": 379,
   "metadata": {},
   "outputs": [
    {
     "data": {
      "text/plain": [
       "52"
      ]
     },
     "execution_count": 379,
     "metadata": {},
     "output_type": "execute_result"
    }
   ],
   "source": [
    "len(new_deck.all_cards)"
   ]
  },
  {
   "cell_type": "code",
   "execution_count": 380,
   "metadata": {},
   "outputs": [
    {
     "name": "stdout",
     "output_type": "stream",
     "text": [
      "Ace of Clubs\n"
     ]
    }
   ],
   "source": [
    "print(new_deck.deal_one())"
   ]
  },
  {
   "cell_type": "code",
   "execution_count": 381,
   "metadata": {},
   "outputs": [
    {
     "data": {
      "text/plain": [
       "51"
      ]
     },
     "execution_count": 381,
     "metadata": {},
     "output_type": "execute_result"
    }
   ],
   "source": [
    "len(new_deck.all_cards)"
   ]
  },
  {
   "cell_type": "code",
   "execution_count": 382,
   "metadata": {},
   "outputs": [],
   "source": [
    "class Player:\n",
    "    \n",
    "    def __init__(self, name):\n",
    "        self.name = name\n",
    "        self.all_player_cards = []\n",
    "        \n",
    "    def add_cards(self, new_cards):\n",
    "        if type(new_cards) == type([]):\n",
    "            #For multiple cards\n",
    "            self.all_player_cards.extend(new_cards)\n",
    "        else:\n",
    "            #For single card\n",
    "            self.all_player_cards.append(new_cards)\n",
    "    \n",
    "    def remove_one(self):\n",
    "        return self.all_player_cards.pop(0)\n",
    "    \n",
    "    def __str__(self):\n",
    "        return f'Player {self.name} has {len(self.all_player_cards)} cards.'"
   ]
  },
  {
   "cell_type": "code",
   "execution_count": 383,
   "metadata": {},
   "outputs": [],
   "source": [
    "player1 = Player('Jose')"
   ]
  },
  {
   "cell_type": "code",
   "execution_count": 384,
   "metadata": {},
   "outputs": [
    {
     "name": "stdout",
     "output_type": "stream",
     "text": [
      "Player Jose has 0 cards.\n"
     ]
    }
   ],
   "source": [
    "print(player1)"
   ]
  },
  {
   "cell_type": "code",
   "execution_count": 385,
   "metadata": {},
   "outputs": [],
   "source": [
    "player1.add_cards(first_card)"
   ]
  },
  {
   "cell_type": "code",
   "execution_count": 386,
   "metadata": {},
   "outputs": [
    {
     "name": "stdout",
     "output_type": "stream",
     "text": [
      "Player Jose has 1 cards.\n"
     ]
    }
   ],
   "source": [
    "print(player1)"
   ]
  },
  {
   "cell_type": "code",
   "execution_count": 387,
   "metadata": {},
   "outputs": [
    {
     "name": "stdout",
     "output_type": "stream",
     "text": [
      "Nine of Diamonds\n"
     ]
    }
   ],
   "source": [
    "print(player1.all_player_cards[0])"
   ]
  },
  {
   "cell_type": "code",
   "execution_count": 388,
   "metadata": {},
   "outputs": [],
   "source": [
    "player1.add_cards([first_card, first_card, first_card])"
   ]
  },
  {
   "cell_type": "code",
   "execution_count": 389,
   "metadata": {},
   "outputs": [
    {
     "name": "stdout",
     "output_type": "stream",
     "text": [
      "Player Jose has 4 cards.\n"
     ]
    }
   ],
   "source": [
    "print(player1)"
   ]
  },
  {
   "cell_type": "code",
   "execution_count": 390,
   "metadata": {},
   "outputs": [
    {
     "name": "stdout",
     "output_type": "stream",
     "text": [
      "Nine of Diamonds Nine of Diamonds Nine of Diamonds Nine of Diamonds\n"
     ]
    }
   ],
   "source": [
    "print(*player1.all_player_cards)"
   ]
  },
  {
   "cell_type": "code",
   "execution_count": 425,
   "metadata": {},
   "outputs": [],
   "source": [
    "class Game:\n",
    "    \n",
    "    def __init__(self):\n",
    "        \n",
    "        self.player1 = Player('Player1')\n",
    "        self.player2 = Player('Player2')\n",
    "        self.deck = Deck()\n",
    "        self.deck.shuffle_cards()\n",
    "        for _ in range(0,26):\n",
    "            self.player1.add_cards(self.deck.deal_one())\n",
    "            self.player2.add_cards(self.deck.deal_one())\n",
    "    \n",
    "    def __str__(self):\n",
    "        return(str(self.player1) + '\\n' + str(self.player2))\n",
    "    \n",
    "    def play_one_turn(self):\n",
    "        dealt_cards = []\n",
    "        while len(self.player1.all_player_cards) > 0 and len(self.player2.all_player_cards) > 0:\n",
    "            player1_card = self.player1.remove_one()\n",
    "            player2_card = self.player2.remove_one()\n",
    "            dealt_cards.append(player1_card)\n",
    "            dealt_cards.append(player2_card)\n",
    "            if player1_card.value > player2_card.value:\n",
    "                self.player1.add_cards(dealt_cards)\n",
    "                print(f'Player 1 won the turn. Cards dealt were: \\nPlayer1: {player1_card} \\nPlayer2: {player2_card}')\n",
    "                break\n",
    "            elif player2_card.value > player1_card.value:\n",
    "                self.player2.add_cards(dealt_cards)\n",
    "                print(f'Player 2 won the turn. Cards dealt were: \\nPlayer1: {player1_card} \\nPlayer2: {player2_card}')\n",
    "                break\n",
    "            else:\n",
    "                print(f'It is a war. Cards dealt were: \\nPlayer1: {player1_card} \\nPlayer2: {player2_card} \\nDrawing card again!')\n",
    "                shuffle(self.player1.all_player_cards)\n",
    "                shuffle(self.player2.all_player_cards)\n",
    "                if len(self.player2.all_player_cards) < 5:\n",
    "                    print('Player 1 won')\n",
    "                    return False\n",
    "                elif len(self.player1.all_player_cards) < 5:\n",
    "                    print('Player 2 won')\n",
    "                    return False\n",
    "                for _ in range(0,5):\n",
    "                    dealt_cards.append(self.player1.remove_one())\n",
    "                    dealt_cards.append(self.player2.remove_one())\n",
    "                continue\n",
    "        \n",
    "        if len(self.player2.all_player_cards) == 0:\n",
    "            print('Player 1 won')\n",
    "            return False\n",
    "        elif len(self.player1.all_player_cards) == 0:\n",
    "            print('Player 2 won')\n",
    "            return False\n",
    "        return True\n",
    "            \n",
    "    def play_until_end(self):\n",
    "        while(self.play_one_turn()):\n",
    "            print(f'_________\\n{self} \\n')\n",
    "        print(f'_________\\n{self} \\n')\n",
    "            "
   ]
  },
  {
   "cell_type": "code",
   "execution_count": 426,
   "metadata": {},
   "outputs": [],
   "source": [
    "game = Game()"
   ]
  },
  {
   "cell_type": "code",
   "execution_count": 427,
   "metadata": {},
   "outputs": [
    {
     "name": "stdout",
     "output_type": "stream",
     "text": [
      "Queen of Hearts Four of Hearts Seven of Spades Six of Hearts Jack of Hearts Ten of Diamonds Three of Spades Jack of Diamonds Four of Clubs Ace of Hearts Five of Diamonds Nine of Clubs Ace of Clubs Queen of Diamonds Eight of Hearts Eight of Spades Ace of Diamonds Nine of Hearts Eight of Diamonds Four of Spades Two of Hearts Three of Clubs Ten of Hearts Seven of Hearts Seven of Clubs Seven of Diamonds\n"
     ]
    }
   ],
   "source": [
    "print(*game.player1.all_player_cards)"
   ]
  },
  {
   "cell_type": "code",
   "execution_count": 428,
   "metadata": {},
   "outputs": [
    {
     "name": "stdout",
     "output_type": "stream",
     "text": [
      "Four of Diamonds Ten of Spades Five of Hearts King of Clubs Nine of Diamonds Two of Clubs Two of Diamonds Nine of Spades King of Diamonds Ace of Spades Jack of Clubs Eight of Clubs Queen of Clubs King of Hearts Five of Spades Two of Spades Six of Diamonds Six of Clubs Queen of Spades Six of Spades Three of Diamonds Ten of Clubs Jack of Spades Five of Clubs King of Spades Three of Hearts\n"
     ]
    }
   ],
   "source": [
    "print(*game.player2.all_player_cards)"
   ]
  },
  {
   "cell_type": "code",
   "execution_count": 429,
   "metadata": {},
   "outputs": [
    {
     "name": "stdout",
     "output_type": "stream",
     "text": [
      "Player Player1 has 26 cards.\n",
      "Player Player2 has 26 cards.\n"
     ]
    }
   ],
   "source": [
    "print(game)"
   ]
  },
  {
   "cell_type": "code",
   "execution_count": 430,
   "metadata": {},
   "outputs": [
    {
     "name": "stdout",
     "output_type": "stream",
     "text": [
      "Player 1 won the turn. Cards dealt were: \n",
      "Player1: Queen of Hearts \n",
      "Player2: Four of Diamonds\n"
     ]
    },
    {
     "data": {
      "text/plain": [
       "True"
      ]
     },
     "execution_count": 430,
     "metadata": {},
     "output_type": "execute_result"
    }
   ],
   "source": [
    "game.play_one_turn()"
   ]
  },
  {
   "cell_type": "code",
   "execution_count": 431,
   "metadata": {},
   "outputs": [
    {
     "name": "stdout",
     "output_type": "stream",
     "text": [
      "Player Player1 has 27 cards.\n",
      "Player Player2 has 25 cards.\n"
     ]
    }
   ],
   "source": [
    "print(game)"
   ]
  },
  {
   "cell_type": "code",
   "execution_count": 432,
   "metadata": {},
   "outputs": [
    {
     "name": "stdout",
     "output_type": "stream",
     "text": [
      "Player 2 won the turn. Cards dealt were: \n",
      "Player1: Four of Hearts \n",
      "Player2: Ten of Spades\n",
      "_________\n",
      "Player Player1 has 26 cards.\n",
      "Player Player2 has 26 cards. \n",
      "\n",
      "Player 1 won the turn. Cards dealt were: \n",
      "Player1: Seven of Spades \n",
      "Player2: Five of Hearts\n",
      "_________\n",
      "Player Player1 has 27 cards.\n",
      "Player Player2 has 25 cards. \n",
      "\n",
      "Player 2 won the turn. Cards dealt were: \n",
      "Player1: Six of Hearts \n",
      "Player2: King of Clubs\n",
      "_________\n",
      "Player Player1 has 26 cards.\n",
      "Player Player2 has 26 cards. \n",
      "\n",
      "Player 1 won the turn. Cards dealt were: \n",
      "Player1: Jack of Hearts \n",
      "Player2: Nine of Diamonds\n",
      "_________\n",
      "Player Player1 has 27 cards.\n",
      "Player Player2 has 25 cards. \n",
      "\n",
      "Player 1 won the turn. Cards dealt were: \n",
      "Player1: Ten of Diamonds \n",
      "Player2: Two of Clubs\n",
      "_________\n",
      "Player Player1 has 28 cards.\n",
      "Player Player2 has 24 cards. \n",
      "\n",
      "Player 1 won the turn. Cards dealt were: \n",
      "Player1: Three of Spades \n",
      "Player2: Two of Diamonds\n",
      "_________\n",
      "Player Player1 has 29 cards.\n",
      "Player Player2 has 23 cards. \n",
      "\n",
      "Player 1 won the turn. Cards dealt were: \n",
      "Player1: Jack of Diamonds \n",
      "Player2: Nine of Spades\n",
      "_________\n",
      "Player Player1 has 30 cards.\n",
      "Player Player2 has 22 cards. \n",
      "\n",
      "Player 2 won the turn. Cards dealt were: \n",
      "Player1: Four of Clubs \n",
      "Player2: King of Diamonds\n",
      "_________\n",
      "Player Player1 has 29 cards.\n",
      "Player Player2 has 23 cards. \n",
      "\n",
      "It is a war. Cards dealt were: \n",
      "Player1: Ace of Hearts \n",
      "Player2: Ace of Spades \n",
      "Drawing card again!\n",
      "Player 1 won the turn. Cards dealt were: \n",
      "Player1: Nine of Hearts \n",
      "Player2: Two of Spades\n",
      "_________\n",
      "Player Player1 has 36 cards.\n",
      "Player Player2 has 16 cards. \n",
      "\n",
      "Player 1 won the turn. Cards dealt were: \n",
      "Player1: Ace of Diamonds \n",
      "Player2: King of Clubs\n",
      "_________\n",
      "Player Player1 has 37 cards.\n",
      "Player Player2 has 15 cards. \n",
      "\n",
      "Player 2 won the turn. Cards dealt were: \n",
      "Player1: Five of Diamonds \n",
      "Player2: Ten of Clubs\n",
      "_________\n",
      "Player Player1 has 36 cards.\n",
      "Player Player2 has 16 cards. \n",
      "\n",
      "Player 1 won the turn. Cards dealt were: \n",
      "Player1: Ace of Clubs \n",
      "Player2: King of Spades\n",
      "_________\n",
      "Player Player1 has 37 cards.\n",
      "Player Player2 has 15 cards. \n",
      "\n",
      "Player 2 won the turn. Cards dealt were: \n",
      "Player1: Two of Hearts \n",
      "Player2: Jack of Clubs\n",
      "_________\n",
      "Player Player1 has 36 cards.\n",
      "Player Player2 has 16 cards. \n",
      "\n",
      "Player 2 won the turn. Cards dealt were: \n",
      "Player1: Ten of Hearts \n",
      "Player2: Jack of Spades\n",
      "_________\n",
      "Player Player1 has 35 cards.\n",
      "Player Player2 has 17 cards. \n",
      "\n",
      "Player 2 won the turn. Cards dealt were: \n",
      "Player1: Seven of Clubs \n",
      "Player2: King of Diamonds\n",
      "_________\n",
      "Player Player1 has 34 cards.\n",
      "Player Player2 has 18 cards. \n",
      "\n",
      "Player 1 won the turn. Cards dealt were: \n",
      "Player1: Eight of Hearts \n",
      "Player2: Five of Spades\n",
      "_________\n",
      "Player Player1 has 35 cards.\n",
      "Player Player2 has 17 cards. \n",
      "\n",
      "Player 1 won the turn. Cards dealt were: \n",
      "Player1: Seven of Diamonds \n",
      "Player2: Six of Spades\n",
      "_________\n",
      "Player Player1 has 36 cards.\n",
      "Player Player2 has 16 cards. \n",
      "\n",
      "Player 1 won the turn. Cards dealt were: \n",
      "Player1: Eight of Diamonds \n",
      "Player2: Six of Clubs\n",
      "_________\n",
      "Player Player1 has 37 cards.\n",
      "Player Player2 has 15 cards. \n",
      "\n",
      "It is a war. Cards dealt were: \n",
      "Player1: Five of Hearts \n",
      "Player2: Five of Clubs \n",
      "Drawing card again!\n",
      "Player 2 won the turn. Cards dealt were: \n",
      "Player1: Three of Spades \n",
      "Player2: Queen of Spades\n",
      "_________\n",
      "Player Player1 has 30 cards.\n",
      "Player Player2 has 22 cards. \n",
      "\n",
      "Player 1 won the turn. Cards dealt were: \n",
      "Player1: King of Clubs \n",
      "Player2: Four of Hearts\n",
      "_________\n",
      "Player Player1 has 31 cards.\n",
      "Player Player2 has 21 cards. \n",
      "\n",
      "Player 2 won the turn. Cards dealt were: \n",
      "Player1: Nine of Hearts \n",
      "Player2: Jack of Spades\n",
      "_________\n",
      "Player Player1 has 30 cards.\n",
      "Player Player2 has 22 cards. \n",
      "\n",
      "Player 2 won the turn. Cards dealt were: \n",
      "Player1: Eight of Diamonds \n",
      "Player2: Ten of Hearts\n",
      "_________\n",
      "Player Player1 has 29 cards.\n",
      "Player Player2 has 23 cards. \n",
      "\n",
      "Player 1 won the turn. Cards dealt were: \n",
      "Player1: Eight of Hearts \n",
      "Player2: Seven of Clubs\n",
      "_________\n",
      "Player Player1 has 30 cards.\n",
      "Player Player2 has 22 cards. \n",
      "\n",
      "Player 2 won the turn. Cards dealt were: \n",
      "Player1: Seven of Diamonds \n",
      "Player2: Ten of Spades\n",
      "_________\n",
      "Player Player1 has 29 cards.\n",
      "Player Player2 has 23 cards. \n",
      "\n",
      "Player 1 won the turn. Cards dealt were: \n",
      "Player1: Six of Clubs \n",
      "Player2: Two of Hearts\n",
      "_________\n",
      "Player Player1 has 30 cards.\n",
      "Player Player2 has 22 cards. \n",
      "\n",
      "It is a war. Cards dealt were: \n",
      "Player1: Ten of Diamonds \n",
      "Player2: Ten of Clubs \n",
      "Drawing card again!\n",
      "Player 1 won the turn. Cards dealt were: \n",
      "Player1: Six of Hearts \n",
      "Player2: Two of Clubs\n",
      "_________\n",
      "Player Player1 has 37 cards.\n",
      "Player Player2 has 15 cards. \n",
      "\n",
      "Player 1 won the turn. Cards dealt were: \n",
      "Player1: Queen of Clubs \n",
      "Player2: Jack of Clubs\n",
      "_________\n",
      "Player Player1 has 38 cards.\n",
      "Player Player2 has 14 cards. \n",
      "\n",
      "Player 1 won the turn. Cards dealt were: \n",
      "Player1: Ace of Hearts \n",
      "Player2: Queen of Hearts\n",
      "_________\n",
      "Player Player1 has 39 cards.\n",
      "Player Player2 has 13 cards. \n",
      "\n",
      "Player 2 won the turn. Cards dealt were: \n",
      "Player1: Seven of Hearts \n",
      "Player2: Ten of Spades\n",
      "_________\n",
      "Player Player1 has 38 cards.\n",
      "Player Player2 has 14 cards. \n",
      "\n",
      "Player 2 won the turn. Cards dealt were: \n",
      "Player1: Two of Spades \n",
      "Player2: King of Diamonds\n",
      "_________\n",
      "Player Player1 has 37 cards.\n",
      "Player Player2 has 15 cards. \n",
      "\n",
      "Player 1 won the turn. Cards dealt were: \n",
      "Player1: Seven of Clubs \n",
      "Player2: Four of Spades\n",
      "_________\n",
      "Player Player1 has 38 cards.\n",
      "Player Player2 has 14 cards. \n",
      "\n",
      "Player 1 won the turn. Cards dealt were: \n",
      "Player1: Ace of Clubs \n",
      "Player2: King of Hearts\n",
      "_________\n",
      "Player Player1 has 39 cards.\n",
      "Player Player2 has 13 cards. \n",
      "\n",
      "Player 2 won the turn. Cards dealt were: \n",
      "Player1: Six of Diamonds \n",
      "Player2: Nine of Hearts\n",
      "_________\n",
      "Player Player1 has 38 cards.\n",
      "Player Player2 has 14 cards. \n",
      "\n",
      "Player 2 won the turn. Cards dealt were: \n",
      "Player1: Four of Clubs \n",
      "Player2: Eight of Clubs\n",
      "_________\n",
      "Player Player1 has 37 cards.\n",
      "Player Player2 has 15 cards. \n",
      "\n",
      "It is a war. Cards dealt were: \n",
      "Player1: Eight of Hearts \n",
      "Player2: Eight of Spades \n",
      "Drawing card again!\n",
      "Player 1 won the turn. Cards dealt were: \n",
      "Player1: Ace of Spades \n",
      "Player2: Ten of Spades\n",
      "_________\n",
      "Player Player1 has 44 cards.\n",
      "Player Player2 has 8 cards. \n",
      "\n",
      "Player 2 won the turn. Cards dealt were: \n",
      "Player1: Seven of Spades \n",
      "Player2: Eight of Clubs\n",
      "_________\n",
      "Player Player1 has 43 cards.\n",
      "Player Player2 has 9 cards. \n",
      "\n",
      "Player 1 won the turn. Cards dealt were: \n",
      "Player1: Ace of Hearts \n",
      "Player2: Ten of Hearts\n",
      "_________\n",
      "Player Player1 has 44 cards.\n",
      "Player Player2 has 8 cards. \n",
      "\n",
      "Player 1 won the turn. Cards dealt were: \n",
      "Player1: Nine of Spades \n",
      "Player2: Six of Diamonds\n",
      "_________\n",
      "Player Player1 has 45 cards.\n",
      "Player Player2 has 7 cards. \n",
      "\n",
      "Player 1 won the turn. Cards dealt were: \n",
      "Player1: Four of Diamonds \n",
      "Player2: Two of Spades\n",
      "_________\n",
      "Player Player1 has 46 cards.\n",
      "Player Player2 has 6 cards. \n",
      "\n",
      "Player 1 won the turn. Cards dealt were: \n",
      "Player1: Ace of Clubs \n",
      "Player2: Nine of Diamonds\n",
      "_________\n",
      "Player Player1 has 47 cards.\n",
      "Player Player2 has 5 cards. \n",
      "\n",
      "Player 2 won the turn. Cards dealt were: \n",
      "Player1: Three of Hearts \n",
      "Player2: Jack of Spades\n",
      "_________\n",
      "Player Player1 has 46 cards.\n",
      "Player Player2 has 6 cards. \n",
      "\n",
      "Player 1 won the turn. Cards dealt were: \n",
      "Player1: Queen of Spades \n",
      "Player2: Seven of Hearts\n",
      "_________\n",
      "Player Player1 has 47 cards.\n",
      "Player Player2 has 5 cards. \n",
      "\n",
      "Player 2 won the turn. Cards dealt were: \n",
      "Player1: Six of Hearts \n",
      "Player2: Nine of Hearts\n",
      "_________\n",
      "Player Player1 has 46 cards.\n",
      "Player Player2 has 6 cards. \n",
      "\n",
      "Player 1 won the turn. Cards dealt were: \n",
      "Player1: King of Spades \n",
      "Player2: Seven of Spades\n",
      "_________\n",
      "Player Player1 has 47 cards.\n",
      "Player Player2 has 5 cards. \n",
      "\n",
      "Player 1 won the turn. Cards dealt were: \n",
      "Player1: Jack of Clubs \n",
      "Player2: Eight of Clubs\n",
      "_________\n",
      "Player Player1 has 48 cards.\n",
      "Player Player2 has 4 cards. \n",
      "\n",
      "Player 1 won the turn. Cards dealt were: \n",
      "Player1: Queen of Hearts \n",
      "Player2: Three of Hearts\n",
      "_________\n",
      "Player Player1 has 49 cards.\n",
      "Player Player2 has 3 cards. \n",
      "\n",
      "Player 1 won the turn. Cards dealt were: \n",
      "Player1: Queen of Diamonds \n",
      "Player2: Jack of Spades\n",
      "_________\n",
      "Player Player1 has 50 cards.\n",
      "Player Player2 has 2 cards. \n",
      "\n",
      "Player 2 won the turn. Cards dealt were: \n",
      "Player1: Four of Spades \n",
      "Player2: Six of Hearts\n",
      "_________\n",
      "Player Player1 has 49 cards.\n",
      "Player Player2 has 3 cards. \n",
      "\n",
      "Player 1 won the turn. Cards dealt were: \n",
      "Player1: Ace of Diamonds \n",
      "Player2: Nine of Hearts\n",
      "_________\n",
      "Player Player1 has 50 cards.\n",
      "Player Player2 has 2 cards. \n",
      "\n",
      "Player 2 won the turn. Cards dealt were: \n",
      "Player1: Two of Hearts \n",
      "Player2: Four of Spades\n",
      "_________\n",
      "Player Player1 has 49 cards.\n",
      "Player Player2 has 3 cards. \n",
      "\n",
      "Player 1 won the turn. Cards dealt were: \n",
      "Player1: King of Clubs \n",
      "Player2: Six of Hearts\n",
      "_________\n",
      "Player Player1 has 50 cards.\n",
      "Player Player2 has 2 cards. \n",
      "\n",
      "Player 1 won the turn. Cards dealt were: \n",
      "Player1: Nine of Clubs \n",
      "Player2: Two of Hearts\n",
      "_________\n",
      "Player Player1 has 51 cards.\n",
      "Player Player2 has 1 cards. \n",
      "\n",
      "Player 1 won the turn. Cards dealt were: \n",
      "Player1: Queen of Clubs \n",
      "Player2: Four of Spades\n",
      "Player 1 won\n",
      "_________\n",
      "Player Player1 has 52 cards.\n",
      "Player Player2 has 0 cards. \n",
      "\n"
     ]
    }
   ],
   "source": [
    "game.play_until_end()"
   ]
  },
  {
   "cell_type": "code",
   "execution_count": 433,
   "metadata": {},
   "outputs": [
    {
     "name": "stdout",
     "output_type": "stream",
     "text": [
      "debug\n"
     ]
    }
   ],
   "source": [
    "print('debug')"
   ]
  },
  {
   "cell_type": "code",
   "execution_count": null,
   "metadata": {},
   "outputs": [],
   "source": []
  }
 ],
 "metadata": {
  "kernelspec": {
   "display_name": "Python 3",
   "language": "python",
   "name": "python3"
  },
  "language_info": {
   "codemirror_mode": {
    "name": "ipython",
    "version": 3
   },
   "file_extension": ".py",
   "mimetype": "text/x-python",
   "name": "python",
   "nbconvert_exporter": "python",
   "pygments_lexer": "ipython3",
   "version": "3.7.6"
  }
 },
 "nbformat": 4,
 "nbformat_minor": 4
}
