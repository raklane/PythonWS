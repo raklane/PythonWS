{
 "cells": [
  {
   "cell_type": "code",
   "execution_count": 96,
   "metadata": {},
   "outputs": [],
   "source": [
    "from random import shuffle\n",
    "suits = ('Hearts', 'Diamonds', 'Spades', 'Clubs')\n",
    "ranks = ('Two', 'Three', 'Four', 'Five', 'Six', 'Seven', 'Eight', 'Nine', 'Ten', 'Jack', 'Queen', 'King', 'Ace')\n",
    "values = {'Two':2, 'Three':3, 'Four':4, 'Five':5, 'Six':6, 'Seven':7, 'Eight':8, 'Nine':9, 'Ten':10, 'Jack':10,\n",
    "         'Queen':10, 'King':10, 'Ace':1}"
   ]
  },
  {
   "cell_type": "code",
   "execution_count": 97,
   "metadata": {},
   "outputs": [],
   "source": [
    "class Cards:\n",
    "    def __init__(self, suit, rank):\n",
    "        self.suit = suit\n",
    "        self.rank = rank\n",
    "        self.value = values[rank]\n",
    "        \n",
    "    def __str__(self):\n",
    "        return (f'{self.rank} of {self.suit}')"
   ]
  },
  {
   "cell_type": "code",
   "execution_count": 98,
   "metadata": {},
   "outputs": [],
   "source": [
    "mycard = Cards('Spades','Eight')"
   ]
  },
  {
   "cell_type": "code",
   "execution_count": 99,
   "metadata": {},
   "outputs": [
    {
     "data": {
      "text/plain": [
       "<__main__.Cards at 0x7f9ecffc1190>"
      ]
     },
     "execution_count": 99,
     "metadata": {},
     "output_type": "execute_result"
    }
   ],
   "source": [
    "mycard"
   ]
  },
  {
   "cell_type": "code",
   "execution_count": 100,
   "metadata": {},
   "outputs": [
    {
     "name": "stdout",
     "output_type": "stream",
     "text": [
      "Eight of Spades\n"
     ]
    }
   ],
   "source": [
    "print(mycard)"
   ]
  },
  {
   "cell_type": "code",
   "execution_count": 101,
   "metadata": {},
   "outputs": [],
   "source": [
    "class Deck:\n",
    "    \n",
    "    def __init__(self):\n",
    "        self.all_cards = []\n",
    "        for suit in suits:\n",
    "            for rank in ranks:\n",
    "                self.all_cards.append(Cards(suit, rank))\n",
    "    \n",
    "    def shuffle_deck(self):\n",
    "        shuffle(self.all_cards)\n",
    "    \n",
    "    def deal_one(self):\n",
    "        return self.all_cards.pop()"
   ]
  },
  {
   "cell_type": "code",
   "execution_count": 102,
   "metadata": {},
   "outputs": [],
   "source": [
    "new_deck = Deck()"
   ]
  },
  {
   "cell_type": "code",
   "execution_count": 103,
   "metadata": {},
   "outputs": [
    {
     "name": "stdout",
     "output_type": "stream",
     "text": [
      "Two of Hearts Three of Hearts Four of Hearts Five of Hearts Six of Hearts Seven of Hearts Eight of Hearts Nine of Hearts Ten of Hearts Jack of Hearts Queen of Hearts King of Hearts Ace of Hearts Two of Diamonds Three of Diamonds Four of Diamonds Five of Diamonds Six of Diamonds Seven of Diamonds Eight of Diamonds Nine of Diamonds Ten of Diamonds Jack of Diamonds Queen of Diamonds King of Diamonds Ace of Diamonds Two of Spades Three of Spades Four of Spades Five of Spades Six of Spades Seven of Spades Eight of Spades Nine of Spades Ten of Spades Jack of Spades Queen of Spades King of Spades Ace of Spades Two of Clubs Three of Clubs Four of Clubs Five of Clubs Six of Clubs Seven of Clubs Eight of Clubs Nine of Clubs Ten of Clubs Jack of Clubs Queen of Clubs King of Clubs Ace of Clubs\n"
     ]
    }
   ],
   "source": [
    "print(*new_deck.all_cards)"
   ]
  },
  {
   "cell_type": "code",
   "execution_count": 104,
   "metadata": {},
   "outputs": [],
   "source": [
    "new_deck.shuffle_deck()"
   ]
  },
  {
   "cell_type": "code",
   "execution_count": 105,
   "metadata": {},
   "outputs": [
    {
     "name": "stdout",
     "output_type": "stream",
     "text": [
      "Six of Spades King of Spades Four of Diamonds Queen of Spades Queen of Hearts Five of Spades Seven of Clubs Ace of Diamonds Seven of Spades Six of Diamonds Five of Hearts Ace of Clubs Five of Clubs Ten of Diamonds Seven of Hearts Ten of Clubs Jack of Spades Jack of Clubs Ace of Spades Six of Clubs Queen of Clubs Nine of Diamonds Eight of Clubs King of Hearts Four of Hearts Ace of Hearts Six of Hearts Ten of Hearts Three of Spades Three of Clubs Ten of Spades Three of Diamonds Nine of Clubs Four of Spades King of Diamonds Two of Clubs Nine of Hearts Two of Spades Eight of Spades Nine of Spades Jack of Diamonds Eight of Diamonds Four of Clubs Five of Diamonds Three of Hearts Queen of Diamonds Eight of Hearts Seven of Diamonds Jack of Hearts Two of Diamonds King of Clubs Two of Hearts\n"
     ]
    }
   ],
   "source": [
    "print(*new_deck.all_cards)"
   ]
  },
  {
   "cell_type": "code",
   "execution_count": 176,
   "metadata": {},
   "outputs": [],
   "source": [
    "class Player:\n",
    "    \n",
    "    def __init__(self, name):\n",
    "        self.name = name\n",
    "        self.all_player_cards = []\n",
    "        self.player_card_value = 0 \n",
    "    \n",
    "    def add_cards(self,new_card):\n",
    "        self.all_player_cards.append(new_card)\n",
    "        self.player_card_value += new_card.value\n",
    "    \n",
    "    def hit(self,new_card):\n",
    "        self.add_cards(new_card)\n",
    "    \n",
    "    def __str__(self):\n",
    "        return f'Player {self.name} has card value {self.player_card_value}'"
   ]
  },
  {
   "cell_type": "code",
   "execution_count": null,
   "metadata": {},
   "outputs": [],
   "source": []
  },
  {
   "cell_type": "code",
   "execution_count": 177,
   "metadata": {},
   "outputs": [],
   "source": [
    "player1 = Player('Human')"
   ]
  },
  {
   "cell_type": "code",
   "execution_count": 178,
   "metadata": {},
   "outputs": [
    {
     "name": "stdout",
     "output_type": "stream",
     "text": [
      "Player Human has card value 0\n"
     ]
    }
   ],
   "source": [
    "print(player1)"
   ]
  },
  {
   "cell_type": "code",
   "execution_count": 179,
   "metadata": {},
   "outputs": [],
   "source": [
    "player1.hit(new_deck.deal_one())"
   ]
  },
  {
   "cell_type": "code",
   "execution_count": 180,
   "metadata": {},
   "outputs": [
    {
     "name": "stdout",
     "output_type": "stream",
     "text": [
      "Player Human has card value 10\n"
     ]
    }
   ],
   "source": [
    "print(player1)"
   ]
  },
  {
   "cell_type": "code",
   "execution_count": 181,
   "metadata": {},
   "outputs": [
    {
     "name": "stdout",
     "output_type": "stream",
     "text": [
      "King of Clubs\n"
     ]
    }
   ],
   "source": [
    "print(*player1.all_player_cards)"
   ]
  },
  {
   "cell_type": "code",
   "execution_count": 223,
   "metadata": {},
   "outputs": [],
   "source": [
    "class Game:\n",
    "    \n",
    "    \n",
    "            \n",
    "    def __init__(self):\n",
    "        \n",
    "        self.money = 1000\n",
    "        self.my_deck = Deck()\n",
    "        self.my_deck.shuffle_deck()\n",
    "        self.human = Player('Human')\n",
    "        self.dealer = Player('Dealer')\n",
    "        for _ in range(0,2):\n",
    "            self.human.add_cards(self.my_deck.deal_one())\n",
    "            self.dealer.add_cards(self.my_deck.deal_one())\n",
    "            \n",
    "    def reset_game(self):\n",
    "        self.my_deck = Deck()\n",
    "        self.my_deck.shuffle_deck()\n",
    "        self.human = Player('Human')\n",
    "        self.dealer = Player('Dealer')\n",
    "        for _ in range(0,2):\n",
    "            self.human.add_cards(self.my_deck.deal_one())\n",
    "            self.dealer.add_cards(self.my_deck.deal_one())\n",
    "        \n",
    "        \n",
    "    def player_choice(self):\n",
    "        player_choice = ''\n",
    "        while player_choice.lower() != 'hit' and player_choice.lower() != 'stay':\n",
    "            player_choice = input('Hit or Stay? :')\n",
    "            if player_choice.lower() != 'hit' and player_choice.lower() != 'stay':\n",
    "                print('Please enter hit or stay!')\n",
    "        return player_choice\n",
    "    \n",
    "    def display_game_status(self):\n",
    "        print('Your cards are : ', end = '')\n",
    "        print(*self.human.all_player_cards, sep = ', ')\n",
    "        print('Your total card value is: ' + str(self.human.player_card_value))\n",
    "        print(f'Dealer\\'s first card is : {self.dealer.all_player_cards[0]}')\n",
    "        print('-------------------')\n",
    "        \n",
    "    def display_all_cards(self):\n",
    "        print('Your cards are: ', end = '')\n",
    "        print(*self.human.all_player_cards, sep = ', ')\n",
    "        print('\\nDealer\\'s cards are :', end = '')\n",
    "        print(*self.dealer.all_player_cards, sep = ', ')\n",
    "        \n",
    "    def another_game(self):\n",
    "        game_on = ''\n",
    "        while game_on.lower() != 'y' and game_on.lower() != 'n':\n",
    "            game_on = input('\\nDo you want to play (y or n): ')\n",
    "            if game_on.lower() != 'y' and game_on.lower() != 'n':\n",
    "                print('Enter a valid choice')\n",
    "        return True if game_on.lower() == 'y' else False\n",
    "    \n",
    "    def play(self):\n",
    "        \n",
    "        game_on = True\n",
    "        \n",
    "        while game_on and self.money > 0:\n",
    "            \n",
    "            self.reset_game()\n",
    "            print(f'You have ${self.money}')\n",
    "            while True:\n",
    "                current_bet = ''\n",
    "                try:\n",
    "                    current_bet = int(input('How much money you want to bet.'))\n",
    "                except:\n",
    "                    print('Enter a valid amount!')\n",
    "                    continue\n",
    "                else:\n",
    "                    if current_bet > self.money:\n",
    "                        print(f'You only have ${self.money}')\n",
    "                        continue\n",
    "                print(f'Game on with ${current_bet}')\n",
    "                break\n",
    "                \n",
    "        \n",
    "            self.my_deck.shuffle_deck()\n",
    "            self.display_game_status()\n",
    "            while self.human.player_card_value < 21:\n",
    "                if self.player_choice().lower() == 'hit':\n",
    "                    self.human.hit(self.my_deck.deal_one())\n",
    "                    self.display_game_status()\n",
    "                else:\n",
    "                    break\n",
    "\n",
    "            if self.human.player_card_value == 21:\n",
    "                print('You Won')\n",
    "                self.money = self.money + current_bet\n",
    "                self.display_all_cards()\n",
    "            elif self.human.player_card_value > 21:\n",
    "                print('You BUST! You lost')\n",
    "                self.money = self.money - current_bet\n",
    "                self.display_all_cards()\n",
    "            else:\n",
    "                while self.dealer.player_card_value <= self.human.player_card_value:\n",
    "                    self.dealer.hit(self.my_deck.deal_one())\n",
    "\n",
    "                if self.dealer.player_card_value > 21:\n",
    "                    print('Dealer BUST! You Won!')\n",
    "                    self.money = self.money + current_bet\n",
    "                    self.display_all_cards()\n",
    "                else:\n",
    "                    print('You Lost!')\n",
    "                    self.money = self.money - current_bet\n",
    "                    self.display_all_cards()\n",
    "            \n",
    "            if self.money == 0:\n",
    "                print('You have lost all your money!')\n",
    "                break\n",
    "            \n",
    "            game_on = self.another_game()\n",
    "            if game_on == False:\n",
    "                print(f'You go home with ${self.money}')\n",
    "                break"
   ]
  },
  {
   "cell_type": "code",
   "execution_count": 224,
   "metadata": {},
   "outputs": [],
   "source": [
    "game = Game()"
   ]
  },
  {
   "cell_type": "code",
   "execution_count": 225,
   "metadata": {},
   "outputs": [
    {
     "name": "stdout",
     "output_type": "stream",
     "text": [
      "You have $1000\n",
      "How much money you want to bet.500\n",
      "Game on with $500\n",
      "Your cards are : Three of Clubs, Six of Diamonds\n",
      "Your total card value is: 9\n",
      "Dealer's first card is : Nine of Hearts\n",
      "-------------------\n",
      "Hit or Stay? :hit\n",
      "Your cards are : Three of Clubs, Six of Diamonds, Queen of Diamonds\n",
      "Your total card value is: 19\n",
      "Dealer's first card is : Nine of Hearts\n",
      "-------------------\n",
      "Hit or Stay? :stay\n",
      "Dealer BUST! You Won!\n",
      "Your cards are: Three of Clubs, Six of Diamonds, Queen of Diamonds\n",
      "\n",
      "Dealer's cards are :Nine of Hearts, Eight of Hearts, Ten of Diamonds\n",
      "\n",
      "Do you want to play (y or n): y\n",
      "You have $1500\n",
      "How much money you want to bet.800\n",
      "Game on with $800\n",
      "Your cards are : Queen of Diamonds, Jack of Diamonds\n",
      "Your total card value is: 20\n",
      "Dealer's first card is : Ace of Hearts\n",
      "-------------------\n",
      "Hit or Stay? :stay\n",
      "Dealer BUST! You Won!\n",
      "Your cards are: Queen of Diamonds, Jack of Diamonds\n",
      "\n",
      "Dealer's cards are :Ace of Hearts, Seven of Spades, Two of Spades, Nine of Clubs, Seven of Diamonds\n",
      "\n",
      "Do you want to play (y or n): y\n",
      "You have $2300\n",
      "How much money you want to bet.2300\n",
      "Game on with $2300\n",
      "Your cards are : Five of Spades, Seven of Diamonds\n",
      "Your total card value is: 12\n",
      "Dealer's first card is : King of Hearts\n",
      "-------------------\n",
      "Hit or Stay? :stay\n",
      "You Lost!\n",
      "Your cards are: Five of Spades, Seven of Diamonds\n",
      "\n",
      "Dealer's cards are :King of Hearts, Seven of Clubs\n",
      "You have lost all your money!\n"
     ]
    }
   ],
   "source": [
    "game.play()"
   ]
  },
  {
   "cell_type": "code",
   "execution_count": 185,
   "metadata": {},
   "outputs": [
    {
     "data": {
      "text/plain": [
       "True"
      ]
     },
     "execution_count": 185,
     "metadata": {},
     "output_type": "execute_result"
    }
   ],
   "source": [
    "type(2) == int"
   ]
  },
  {
   "cell_type": "code",
   "execution_count": null,
   "metadata": {},
   "outputs": [],
   "source": []
  }
 ],
 "metadata": {
  "kernelspec": {
   "display_name": "Python 3",
   "language": "python",
   "name": "python3"
  },
  "language_info": {
   "codemirror_mode": {
    "name": "ipython",
    "version": 3
   },
   "file_extension": ".py",
   "mimetype": "text/x-python",
   "name": "python",
   "nbconvert_exporter": "python",
   "pygments_lexer": "ipython3",
   "version": "3.7.6"
  }
 },
 "nbformat": 4,
 "nbformat_minor": 4
}
